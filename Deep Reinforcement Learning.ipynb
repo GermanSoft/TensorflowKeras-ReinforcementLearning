{
 "cells": [
  {
   "cell_type": "markdown",
   "metadata": {},
   "source": [
    "# 0. Install Dependencies"
   ]
  },
  {
   "cell_type": "code",
   "execution_count": 1,
   "metadata": {},
   "outputs": [
    {
     "name": "stdout",
     "output_type": "stream",
     "text": [
      "Requirement already satisfied: tensorflow==2.3.0 in c:\\users\\marti\\anaconda3\\envs\\rl1\\lib\\site-packages (2.3.0)\n",
      "Requirement already satisfied: wrapt>=1.11.1 in c:\\users\\marti\\anaconda3\\envs\\rl1\\lib\\site-packages (from tensorflow==2.3.0) (1.12.1)\n",
      "Requirement already satisfied: six>=1.12.0 in c:\\users\\marti\\anaconda3\\envs\\rl1\\lib\\site-packages (from tensorflow==2.3.0) (1.15.0)\n",
      "Requirement already satisfied: tensorflow-estimator<2.4.0,>=2.3.0 in c:\\users\\marti\\anaconda3\\envs\\rl1\\lib\\site-packages (from tensorflow==2.3.0) (2.3.0)\n",
      "Requirement already satisfied: termcolor>=1.1.0 in c:\\users\\marti\\anaconda3\\envs\\rl1\\lib\\site-packages (from tensorflow==2.3.0) (1.1.0)\n",
      "Requirement already satisfied: tensorboard<3,>=2.3.0 in c:\\users\\marti\\anaconda3\\envs\\rl1\\lib\\site-packages (from tensorflow==2.3.0) (2.7.0)\n",
      "Requirement already satisfied: absl-py>=0.7.0 in c:\\users\\marti\\anaconda3\\envs\\rl1\\lib\\site-packages (from tensorflow==2.3.0) (0.15.0)\n",
      "Requirement already satisfied: wheel>=0.26 in c:\\users\\marti\\anaconda3\\envs\\rl1\\lib\\site-packages (from tensorflow==2.3.0) (0.37.0)\n",
      "Requirement already satisfied: opt-einsum>=2.3.2 in c:\\users\\marti\\anaconda3\\envs\\rl1\\lib\\site-packages (from tensorflow==2.3.0) (3.3.0)\n",
      "Requirement already satisfied: google-pasta>=0.1.8 in c:\\users\\marti\\anaconda3\\envs\\rl1\\lib\\site-packages (from tensorflow==2.3.0) (0.2.0)\n",
      "Requirement already satisfied: gast==0.3.3 in c:\\users\\marti\\anaconda3\\envs\\rl1\\lib\\site-packages (from tensorflow==2.3.0) (0.3.3)\n",
      "Requirement already satisfied: astunparse==1.6.3 in c:\\users\\marti\\anaconda3\\envs\\rl1\\lib\\site-packages (from tensorflow==2.3.0) (1.6.3)\n",
      "Requirement already satisfied: keras-preprocessing<1.2,>=1.1.1 in c:\\users\\marti\\anaconda3\\envs\\rl1\\lib\\site-packages (from tensorflow==2.3.0) (1.1.2)\n",
      "Requirement already satisfied: h5py<2.11.0,>=2.10.0 in c:\\users\\marti\\anaconda3\\envs\\rl1\\lib\\site-packages (from tensorflow==2.3.0) (2.10.0)\n",
      "Requirement already satisfied: protobuf>=3.9.2 in c:\\users\\marti\\anaconda3\\envs\\rl1\\lib\\site-packages (from tensorflow==2.3.0) (3.19.1)\n",
      "Requirement already satisfied: numpy<1.19.0,>=1.16.0 in c:\\users\\marti\\anaconda3\\envs\\rl1\\lib\\site-packages (from tensorflow==2.3.0) (1.18.5)\n",
      "Requirement already satisfied: scipy==1.4.1 in c:\\users\\marti\\anaconda3\\envs\\rl1\\lib\\site-packages (from tensorflow==2.3.0) (1.4.1)\n",
      "Requirement already satisfied: grpcio>=1.8.6 in c:\\users\\marti\\anaconda3\\envs\\rl1\\lib\\site-packages (from tensorflow==2.3.0) (1.34.1)\n",
      "Requirement already satisfied: setuptools>=41.0.0 in c:\\users\\marti\\anaconda3\\envs\\rl1\\lib\\site-packages (from tensorboard<3,>=2.3.0->tensorflow==2.3.0) (58.0.4)\n",
      "Requirement already satisfied: werkzeug>=0.11.15 in c:\\users\\marti\\anaconda3\\envs\\rl1\\lib\\site-packages (from tensorboard<3,>=2.3.0->tensorflow==2.3.0) (2.0.2)\n",
      "Requirement already satisfied: tensorboard-data-server<0.7.0,>=0.6.0 in c:\\users\\marti\\anaconda3\\envs\\rl1\\lib\\site-packages (from tensorboard<3,>=2.3.0->tensorflow==2.3.0) (0.6.1)\n",
      "Requirement already satisfied: markdown>=2.6.8 in c:\\users\\marti\\anaconda3\\envs\\rl1\\lib\\site-packages (from tensorboard<3,>=2.3.0->tensorflow==2.3.0) (3.3.6)\n",
      "Requirement already satisfied: tensorboard-plugin-wit>=1.6.0 in c:\\users\\marti\\anaconda3\\envs\\rl1\\lib\\site-packages (from tensorboard<3,>=2.3.0->tensorflow==2.3.0) (1.8.0)\n",
      "Requirement already satisfied: requests<3,>=2.21.0 in c:\\users\\marti\\anaconda3\\envs\\rl1\\lib\\site-packages (from tensorboard<3,>=2.3.0->tensorflow==2.3.0) (2.26.0)\n",
      "Requirement already satisfied: google-auth<3,>=1.6.3 in c:\\users\\marti\\anaconda3\\envs\\rl1\\lib\\site-packages (from tensorboard<3,>=2.3.0->tensorflow==2.3.0) (2.3.3)\n",
      "Requirement already satisfied: google-auth-oauthlib<0.5,>=0.4.1 in c:\\users\\marti\\anaconda3\\envs\\rl1\\lib\\site-packages (from tensorboard<3,>=2.3.0->tensorflow==2.3.0) (0.4.6)\n",
      "Requirement already satisfied: cachetools<5.0,>=2.0.0 in c:\\users\\marti\\anaconda3\\envs\\rl1\\lib\\site-packages (from google-auth<3,>=1.6.3->tensorboard<3,>=2.3.0->tensorflow==2.3.0) (4.2.4)\n",
      "Requirement already satisfied: pyasn1-modules>=0.2.1 in c:\\users\\marti\\anaconda3\\envs\\rl1\\lib\\site-packages (from google-auth<3,>=1.6.3->tensorboard<3,>=2.3.0->tensorflow==2.3.0) (0.2.8)\n",
      "Requirement already satisfied: rsa<5,>=3.1.4 in c:\\users\\marti\\anaconda3\\envs\\rl1\\lib\\site-packages (from google-auth<3,>=1.6.3->tensorboard<3,>=2.3.0->tensorflow==2.3.0) (4.8)\n",
      "Requirement already satisfied: requests-oauthlib>=0.7.0 in c:\\users\\marti\\anaconda3\\envs\\rl1\\lib\\site-packages (from google-auth-oauthlib<0.5,>=0.4.1->tensorboard<3,>=2.3.0->tensorflow==2.3.0) (1.3.0)\n",
      "Requirement already satisfied: importlib-metadata>=4.4 in c:\\users\\marti\\anaconda3\\envs\\rl1\\lib\\site-packages (from markdown>=2.6.8->tensorboard<3,>=2.3.0->tensorflow==2.3.0) (4.8.1)\n",
      "Requirement already satisfied: typing-extensions>=3.6.4 in c:\\users\\marti\\anaconda3\\envs\\rl1\\lib\\site-packages (from importlib-metadata>=4.4->markdown>=2.6.8->tensorboard<3,>=2.3.0->tensorflow==2.3.0) (3.7.4.3)\n",
      "Requirement already satisfied: zipp>=0.5 in c:\\users\\marti\\anaconda3\\envs\\rl1\\lib\\site-packages (from importlib-metadata>=4.4->markdown>=2.6.8->tensorboard<3,>=2.3.0->tensorflow==2.3.0) (3.6.0)\n",
      "Requirement already satisfied: pyasn1<0.5.0,>=0.4.6 in c:\\users\\marti\\anaconda3\\envs\\rl1\\lib\\site-packages (from pyasn1-modules>=0.2.1->google-auth<3,>=1.6.3->tensorboard<3,>=2.3.0->tensorflow==2.3.0) (0.4.8)\n",
      "Requirement already satisfied: certifi>=2017.4.17 in c:\\users\\marti\\anaconda3\\envs\\rl1\\lib\\site-packages (from requests<3,>=2.21.0->tensorboard<3,>=2.3.0->tensorflow==2.3.0) (2021.10.8)\n",
      "Requirement already satisfied: idna<4,>=2.5 in c:\\users\\marti\\anaconda3\\envs\\rl1\\lib\\site-packages (from requests<3,>=2.21.0->tensorboard<3,>=2.3.0->tensorflow==2.3.0) (3.3)\n",
      "Requirement already satisfied: urllib3<1.27,>=1.21.1 in c:\\users\\marti\\anaconda3\\envs\\rl1\\lib\\site-packages (from requests<3,>=2.21.0->tensorboard<3,>=2.3.0->tensorflow==2.3.0) (1.26.7)\n",
      "Requirement already satisfied: charset-normalizer~=2.0.0 in c:\\users\\marti\\anaconda3\\envs\\rl1\\lib\\site-packages (from requests<3,>=2.21.0->tensorboard<3,>=2.3.0->tensorflow==2.3.0) (2.0.8)\n",
      "Requirement already satisfied: oauthlib>=3.0.0 in c:\\users\\marti\\anaconda3\\envs\\rl1\\lib\\site-packages (from requests-oauthlib>=0.7.0->google-auth-oauthlib<0.5,>=0.4.1->tensorboard<3,>=2.3.0->tensorflow==2.3.0) (3.1.1)\n",
      "Requirement already satisfied: gym==0.17.2 in c:\\users\\marti\\anaconda3\\envs\\rl1\\lib\\site-packages (0.17.2)\n",
      "Requirement already satisfied: pyglet<=1.5.0,>=1.4.0 in c:\\users\\marti\\anaconda3\\envs\\rl1\\lib\\site-packages (from gym==0.17.2) (1.5.0)\n",
      "Requirement already satisfied: numpy>=1.10.4 in c:\\users\\marti\\anaconda3\\envs\\rl1\\lib\\site-packages (from gym==0.17.2) (1.18.5)\n",
      "Requirement already satisfied: scipy in c:\\users\\marti\\anaconda3\\envs\\rl1\\lib\\site-packages (from gym==0.17.2) (1.4.1)\n",
      "Requirement already satisfied: cloudpickle<1.4.0,>=1.2.0 in c:\\users\\marti\\anaconda3\\envs\\rl1\\lib\\site-packages (from gym==0.17.2) (1.3.0)\n",
      "Requirement already satisfied: future in c:\\users\\marti\\anaconda3\\envs\\rl1\\lib\\site-packages (from pyglet<=1.5.0,>=1.4.0->gym==0.17.2) (0.18.2)\n",
      "Requirement already satisfied: keras==2.4.3 in c:\\users\\marti\\anaconda3\\envs\\rl1\\lib\\site-packages (2.4.3)\n",
      "Requirement already satisfied: h5py in c:\\users\\marti\\anaconda3\\envs\\rl1\\lib\\site-packages (from keras==2.4.3) (2.10.0)\n",
      "Requirement already satisfied: pyyaml in c:\\users\\marti\\anaconda3\\envs\\rl1\\lib\\site-packages (from keras==2.4.3) (6.0)\n",
      "Requirement already satisfied: scipy>=0.14 in c:\\users\\marti\\anaconda3\\envs\\rl1\\lib\\site-packages (from keras==2.4.3) (1.4.1)\n",
      "Requirement already satisfied: numpy>=1.9.1 in c:\\users\\marti\\anaconda3\\envs\\rl1\\lib\\site-packages (from keras==2.4.3) (1.18.5)\n",
      "Requirement already satisfied: six in c:\\users\\marti\\anaconda3\\envs\\rl1\\lib\\site-packages (from h5py->keras==2.4.3) (1.15.0)\n",
      "Requirement already satisfied: keras-rl2==1.0.4 in c:\\users\\marti\\anaconda3\\envs\\rl1\\lib\\site-packages (1.0.4)\n",
      "Requirement already satisfied: tensorflow>=2.1.0 in c:\\users\\marti\\anaconda3\\envs\\rl1\\lib\\site-packages (from keras-rl2==1.0.4) (2.3.0)\n",
      "Requirement already satisfied: wheel>=0.26 in c:\\users\\marti\\anaconda3\\envs\\rl1\\lib\\site-packages (from tensorflow>=2.1.0->keras-rl2==1.0.4) (0.37.0)\n",
      "Requirement already satisfied: protobuf>=3.9.2 in c:\\users\\marti\\anaconda3\\envs\\rl1\\lib\\site-packages (from tensorflow>=2.1.0->keras-rl2==1.0.4) (3.19.1)\n",
      "Requirement already satisfied: tensorboard<3,>=2.3.0 in c:\\users\\marti\\anaconda3\\envs\\rl1\\lib\\site-packages (from tensorflow>=2.1.0->keras-rl2==1.0.4) (2.7.0)\n",
      "Requirement already satisfied: astunparse==1.6.3 in c:\\users\\marti\\anaconda3\\envs\\rl1\\lib\\site-packages (from tensorflow>=2.1.0->keras-rl2==1.0.4) (1.6.3)\n",
      "Requirement already satisfied: gast==0.3.3 in c:\\users\\marti\\anaconda3\\envs\\rl1\\lib\\site-packages (from tensorflow>=2.1.0->keras-rl2==1.0.4) (0.3.3)\n",
      "Requirement already satisfied: tensorflow-estimator<2.4.0,>=2.3.0 in c:\\users\\marti\\anaconda3\\envs\\rl1\\lib\\site-packages (from tensorflow>=2.1.0->keras-rl2==1.0.4) (2.3.0)\n",
      "Requirement already satisfied: termcolor>=1.1.0 in c:\\users\\marti\\anaconda3\\envs\\rl1\\lib\\site-packages (from tensorflow>=2.1.0->keras-rl2==1.0.4) (1.1.0)\n",
      "Requirement already satisfied: six>=1.12.0 in c:\\users\\marti\\anaconda3\\envs\\rl1\\lib\\site-packages (from tensorflow>=2.1.0->keras-rl2==1.0.4) (1.15.0)\n",
      "Requirement already satisfied: absl-py>=0.7.0 in c:\\users\\marti\\anaconda3\\envs\\rl1\\lib\\site-packages (from tensorflow>=2.1.0->keras-rl2==1.0.4) (0.15.0)\n",
      "Requirement already satisfied: opt-einsum>=2.3.2 in c:\\users\\marti\\anaconda3\\envs\\rl1\\lib\\site-packages (from tensorflow>=2.1.0->keras-rl2==1.0.4) (3.3.0)\n",
      "Requirement already satisfied: wrapt>=1.11.1 in c:\\users\\marti\\anaconda3\\envs\\rl1\\lib\\site-packages (from tensorflow>=2.1.0->keras-rl2==1.0.4) (1.12.1)\n",
      "Requirement already satisfied: scipy==1.4.1 in c:\\users\\marti\\anaconda3\\envs\\rl1\\lib\\site-packages (from tensorflow>=2.1.0->keras-rl2==1.0.4) (1.4.1)\n",
      "Requirement already satisfied: keras-preprocessing<1.2,>=1.1.1 in c:\\users\\marti\\anaconda3\\envs\\rl1\\lib\\site-packages (from tensorflow>=2.1.0->keras-rl2==1.0.4) (1.1.2)\n",
      "Requirement already satisfied: h5py<2.11.0,>=2.10.0 in c:\\users\\marti\\anaconda3\\envs\\rl1\\lib\\site-packages (from tensorflow>=2.1.0->keras-rl2==1.0.4) (2.10.0)\n",
      "Requirement already satisfied: google-pasta>=0.1.8 in c:\\users\\marti\\anaconda3\\envs\\rl1\\lib\\site-packages (from tensorflow>=2.1.0->keras-rl2==1.0.4) (0.2.0)\n",
      "Requirement already satisfied: grpcio>=1.8.6 in c:\\users\\marti\\anaconda3\\envs\\rl1\\lib\\site-packages (from tensorflow>=2.1.0->keras-rl2==1.0.4) (1.34.1)\n",
      "Requirement already satisfied: numpy<1.19.0,>=1.16.0 in c:\\users\\marti\\anaconda3\\envs\\rl1\\lib\\site-packages (from tensorflow>=2.1.0->keras-rl2==1.0.4) (1.18.5)\n",
      "Requirement already satisfied: werkzeug>=0.11.15 in c:\\users\\marti\\anaconda3\\envs\\rl1\\lib\\site-packages (from tensorboard<3,>=2.3.0->tensorflow>=2.1.0->keras-rl2==1.0.4) (2.0.2)\n",
      "Requirement already satisfied: tensorboard-plugin-wit>=1.6.0 in c:\\users\\marti\\anaconda3\\envs\\rl1\\lib\\site-packages (from tensorboard<3,>=2.3.0->tensorflow>=2.1.0->keras-rl2==1.0.4) (1.8.0)\n",
      "Requirement already satisfied: tensorboard-data-server<0.7.0,>=0.6.0 in c:\\users\\marti\\anaconda3\\envs\\rl1\\lib\\site-packages (from tensorboard<3,>=2.3.0->tensorflow>=2.1.0->keras-rl2==1.0.4) (0.6.1)\n",
      "Requirement already satisfied: google-auth-oauthlib<0.5,>=0.4.1 in c:\\users\\marti\\anaconda3\\envs\\rl1\\lib\\site-packages (from tensorboard<3,>=2.3.0->tensorflow>=2.1.0->keras-rl2==1.0.4) (0.4.6)\n",
      "Requirement already satisfied: markdown>=2.6.8 in c:\\users\\marti\\anaconda3\\envs\\rl1\\lib\\site-packages (from tensorboard<3,>=2.3.0->tensorflow>=2.1.0->keras-rl2==1.0.4) (3.3.6)\n",
      "Requirement already satisfied: requests<3,>=2.21.0 in c:\\users\\marti\\anaconda3\\envs\\rl1\\lib\\site-packages (from tensorboard<3,>=2.3.0->tensorflow>=2.1.0->keras-rl2==1.0.4) (2.26.0)\n",
      "Requirement already satisfied: google-auth<3,>=1.6.3 in c:\\users\\marti\\anaconda3\\envs\\rl1\\lib\\site-packages (from tensorboard<3,>=2.3.0->tensorflow>=2.1.0->keras-rl2==1.0.4) (2.3.3)\n",
      "Requirement already satisfied: setuptools>=41.0.0 in c:\\users\\marti\\anaconda3\\envs\\rl1\\lib\\site-packages (from tensorboard<3,>=2.3.0->tensorflow>=2.1.0->keras-rl2==1.0.4) (58.0.4)\n",
      "Requirement already satisfied: pyasn1-modules>=0.2.1 in c:\\users\\marti\\anaconda3\\envs\\rl1\\lib\\site-packages (from google-auth<3,>=1.6.3->tensorboard<3,>=2.3.0->tensorflow>=2.1.0->keras-rl2==1.0.4) (0.2.8)\n",
      "Requirement already satisfied: rsa<5,>=3.1.4 in c:\\users\\marti\\anaconda3\\envs\\rl1\\lib\\site-packages (from google-auth<3,>=1.6.3->tensorboard<3,>=2.3.0->tensorflow>=2.1.0->keras-rl2==1.0.4) (4.8)\n",
      "Requirement already satisfied: cachetools<5.0,>=2.0.0 in c:\\users\\marti\\anaconda3\\envs\\rl1\\lib\\site-packages (from google-auth<3,>=1.6.3->tensorboard<3,>=2.3.0->tensorflow>=2.1.0->keras-rl2==1.0.4) (4.2.4)\n",
      "Requirement already satisfied: requests-oauthlib>=0.7.0 in c:\\users\\marti\\anaconda3\\envs\\rl1\\lib\\site-packages (from google-auth-oauthlib<0.5,>=0.4.1->tensorboard<3,>=2.3.0->tensorflow>=2.1.0->keras-rl2==1.0.4) (1.3.0)\n",
      "Requirement already satisfied: importlib-metadata>=4.4 in c:\\users\\marti\\anaconda3\\envs\\rl1\\lib\\site-packages (from markdown>=2.6.8->tensorboard<3,>=2.3.0->tensorflow>=2.1.0->keras-rl2==1.0.4) (4.8.1)\n",
      "Requirement already satisfied: typing-extensions>=3.6.4 in c:\\users\\marti\\anaconda3\\envs\\rl1\\lib\\site-packages (from importlib-metadata>=4.4->markdown>=2.6.8->tensorboard<3,>=2.3.0->tensorflow>=2.1.0->keras-rl2==1.0.4) (3.7.4.3)\n",
      "Requirement already satisfied: zipp>=0.5 in c:\\users\\marti\\anaconda3\\envs\\rl1\\lib\\site-packages (from importlib-metadata>=4.4->markdown>=2.6.8->tensorboard<3,>=2.3.0->tensorflow>=2.1.0->keras-rl2==1.0.4) (3.6.0)\n",
      "Requirement already satisfied: pyasn1<0.5.0,>=0.4.6 in c:\\users\\marti\\anaconda3\\envs\\rl1\\lib\\site-packages (from pyasn1-modules>=0.2.1->google-auth<3,>=1.6.3->tensorboard<3,>=2.3.0->tensorflow>=2.1.0->keras-rl2==1.0.4) (0.4.8)\n",
      "Requirement already satisfied: urllib3<1.27,>=1.21.1 in c:\\users\\marti\\anaconda3\\envs\\rl1\\lib\\site-packages (from requests<3,>=2.21.0->tensorboard<3,>=2.3.0->tensorflow>=2.1.0->keras-rl2==1.0.4) (1.26.7)\n",
      "Requirement already satisfied: idna<4,>=2.5 in c:\\users\\marti\\anaconda3\\envs\\rl1\\lib\\site-packages (from requests<3,>=2.21.0->tensorboard<3,>=2.3.0->tensorflow>=2.1.0->keras-rl2==1.0.4) (3.3)\n",
      "Requirement already satisfied: certifi>=2017.4.17 in c:\\users\\marti\\anaconda3\\envs\\rl1\\lib\\site-packages (from requests<3,>=2.21.0->tensorboard<3,>=2.3.0->tensorflow>=2.1.0->keras-rl2==1.0.4) (2021.10.8)\n",
      "Requirement already satisfied: charset-normalizer~=2.0.0 in c:\\users\\marti\\anaconda3\\envs\\rl1\\lib\\site-packages (from requests<3,>=2.21.0->tensorboard<3,>=2.3.0->tensorflow>=2.1.0->keras-rl2==1.0.4) (2.0.8)\n",
      "Requirement already satisfied: oauthlib>=3.0.0 in c:\\users\\marti\\anaconda3\\envs\\rl1\\lib\\site-packages (from requests-oauthlib>=0.7.0->google-auth-oauthlib<0.5,>=0.4.1->tensorboard<3,>=2.3.0->tensorflow>=2.1.0->keras-rl2==1.0.4) (3.1.1)\n"
     ]
    }
   ],
   "source": [
    "!pip install tensorflow==2.3.0\n",
    "!pip install gym==0.17.2\n",
    "!pip install keras==2.4.3\n",
    "!pip install keras-rl2==1.0.4"
   ]
  },
  {
   "cell_type": "markdown",
   "metadata": {},
   "source": [
    "# 1. Test Random Environment with OpenAI Gym"
   ]
  },
  {
   "cell_type": "code",
   "execution_count": 2,
   "metadata": {},
   "outputs": [
    {
     "name": "stdout",
     "output_type": "stream",
     "text": [
      "3.7.11\n"
     ]
    }
   ],
   "source": [
    "import gym \n",
    "import random\n",
    "from platform import python_version\n",
    "print(python_version())"
   ]
  },
  {
   "cell_type": "code",
   "execution_count": 3,
   "metadata": {},
   "outputs": [],
   "source": [
    "env = gym.make('CartPole-v0')\n",
    "states = env.observation_space.shape[0]\n",
    "actions = env.action_space.n"
   ]
  },
  {
   "cell_type": "code",
   "execution_count": 4,
   "metadata": {},
   "outputs": [
    {
     "data": {
      "text/plain": [
       "2"
      ]
     },
     "execution_count": 4,
     "metadata": {},
     "output_type": "execute_result"
    }
   ],
   "source": [
    "actions"
   ]
  },
  {
   "cell_type": "code",
   "execution_count": null,
   "metadata": {},
   "outputs": [],
   "source": [
    "episodes = 10\n",
    "for episode in range(1, episodes+1):\n",
    "    state = env.reset()\n",
    "    done = False\n",
    "    score = 0 \n",
    "    \n",
    "    while not done:\n",
    "        env.render()\n",
    "        action = random.choice([0,1])\n",
    "        n_state, reward, done, info = env.step(action)\n",
    "        score+=reward\n",
    "    print('Episode:{} Score:{}'.format(episode, score))"
   ]
  },
  {
   "cell_type": "markdown",
   "metadata": {},
   "source": [
    "# 2. Create a Deep Learning Model with Keras"
   ]
  },
  {
   "cell_type": "code",
   "execution_count": 5,
   "metadata": {},
   "outputs": [],
   "source": [
    "import numpy as np\n",
    "from tensorflow.keras.models import Sequential\n",
    "from tensorflow.keras.layers import Dense, Flatten\n",
    "from tensorflow.keras.optimizers import Adam"
   ]
  },
  {
   "cell_type": "code",
   "execution_count": 6,
   "metadata": {},
   "outputs": [],
   "source": [
    "def build_model(states, actions):\n",
    "    model = Sequential()\n",
    "    model.add(Flatten(input_shape=(1,states)))\n",
    "    model.add(Dense(24, activation='relu'))\n",
    "    model.add(Dense(24, activation='relu'))\n",
    "    model.add(Dense(actions, activation='linear'))\n",
    "    return model"
   ]
  },
  {
   "cell_type": "code",
   "execution_count": 7,
   "metadata": {},
   "outputs": [],
   "source": [
    "model = build_model(states, actions)"
   ]
  },
  {
   "cell_type": "code",
   "execution_count": 8,
   "metadata": {},
   "outputs": [
    {
     "name": "stdout",
     "output_type": "stream",
     "text": [
      "Model: \"sequential\"\n",
      "_________________________________________________________________\n",
      "Layer (type)                 Output Shape              Param #   \n",
      "=================================================================\n",
      "flatten (Flatten)            (None, 4)                 0         \n",
      "_________________________________________________________________\n",
      "dense (Dense)                (None, 24)                120       \n",
      "_________________________________________________________________\n",
      "dense_1 (Dense)              (None, 24)                600       \n",
      "_________________________________________________________________\n",
      "dense_2 (Dense)              (None, 2)                 50        \n",
      "=================================================================\n",
      "Total params: 770\n",
      "Trainable params: 770\n",
      "Non-trainable params: 0\n",
      "_________________________________________________________________\n"
     ]
    }
   ],
   "source": [
    "model.summary()"
   ]
  },
  {
   "cell_type": "markdown",
   "metadata": {},
   "source": [
    "# 3. Build Agent with Keras-RL"
   ]
  },
  {
   "cell_type": "code",
   "execution_count": 9,
   "metadata": {},
   "outputs": [],
   "source": [
    "from rl.agents import DQNAgent\n",
    "from rl.policy import BoltzmannQPolicy\n",
    "from rl.memory import SequentialMemory"
   ]
  },
  {
   "cell_type": "code",
   "execution_count": 10,
   "metadata": {},
   "outputs": [],
   "source": [
    "del model\n",
    "model = build_model(states, actions)\n",
    "\n",
    "def build_agent(model, actions):\n",
    "    policy = BoltzmannQPolicy()\n",
    "    memory = SequentialMemory(limit=50000, window_length=1)\n",
    "    dqn = DQNAgent(model=model, memory=memory, policy=policy, \n",
    "                  nb_actions=actions, nb_steps_warmup=10, target_model_update=1e-2)\n",
    "    return dqn"
   ]
  },
  {
   "cell_type": "code",
   "execution_count": 11,
   "metadata": {},
   "outputs": [
    {
     "name": "stdout",
     "output_type": "stream",
     "text": [
      "Training for 50000 steps ...\n",
      "Interval 1 (0 steps performed)\n",
      "WARNING:tensorflow:From C:\\Users\\marti\\anaconda3\\envs\\RL1\\lib\\site-packages\\tensorflow\\python\\keras\\engine\\training_v1.py:2070: Model.state_updates (from tensorflow.python.keras.engine.training) is deprecated and will be removed in a future version.\n",
      "Instructions for updating:\n",
      "This property should not be used in TensorFlow 2.0, as updates are applied automatically.\n",
      "    1/10000 [..............................] - ETA: 5:19 - reward: 1.0000"
     ]
    },
    {
     "name": "stderr",
     "output_type": "stream",
     "text": [
      "C:\\Users\\marti\\anaconda3\\envs\\RL1\\lib\\site-packages\\rl\\memory.py:40: UserWarning: Not enough entries to sample without replacement. Consider increasing your warm-up phase to avoid oversampling!\n",
      "  warnings.warn('Not enough entries to sample without replacement. Consider increasing your warm-up phase to avoid oversampling!')\n"
     ]
    },
    {
     "name": "stdout",
     "output_type": "stream",
     "text": [
      "10000/10000 [==============================] - 56s 6ms/step - reward: 1.0000\n",
      "101 episodes - episode_reward: 97.970 [9.000, 200.000] - loss: 3.756 - mae: 19.604 - mean_q: 39.626\n",
      "\n",
      "Interval 2 (10000 steps performed)\n",
      "10000/10000 [==============================] - 61s 6ms/step - reward: 1.0000\n",
      "50 episodes - episode_reward: 199.760 [193.000, 200.000] - loss: 7.203 - mae: 39.896 - mean_q: 80.470\n",
      "\n",
      "Interval 3 (20000 steps performed)\n",
      "10000/10000 [==============================] - 62s 6ms/step - reward: 1.0000\n",
      "50 episodes - episode_reward: 200.000 [200.000, 200.000] - loss: 6.431 - mae: 42.831 - mean_q: 86.136\n",
      "\n",
      "Interval 4 (30000 steps performed)\n",
      "10000/10000 [==============================] - 63s 6ms/step - reward: 1.0000\n",
      "50 episodes - episode_reward: 199.640 [190.000, 200.000] - loss: 5.429 - mae: 40.316 - mean_q: 80.916\n",
      "\n",
      "Interval 5 (40000 steps performed)\n",
      "10000/10000 [==============================] - 62s 6ms/step - reward: 1.0000\n",
      "done, took 303.641 seconds\n"
     ]
    },
    {
     "data": {
      "text/plain": [
       "<tensorflow.python.keras.callbacks.History at 0x2040e20ea08>"
      ]
     },
     "execution_count": 11,
     "metadata": {},
     "output_type": "execute_result"
    }
   ],
   "source": [
    "dqn = build_agent(model, actions)\n",
    "dqn.compile(Adam(lr=1e-3), metrics=['mae'])\n",
    "dqn.fit(env, nb_steps=50000, visualize=False, verbose=1)"
   ]
  },
  {
   "cell_type": "code",
   "execution_count": 12,
   "metadata": {},
   "outputs": [
    {
     "name": "stdout",
     "output_type": "stream",
     "text": [
      "Testing for 100 episodes ...\n",
      "Episode 1: reward: 200.000, steps: 200\n",
      "Episode 2: reward: 200.000, steps: 200\n",
      "Episode 3: reward: 200.000, steps: 200\n",
      "Episode 4: reward: 200.000, steps: 200\n",
      "Episode 5: reward: 200.000, steps: 200\n",
      "Episode 6: reward: 200.000, steps: 200\n",
      "Episode 7: reward: 200.000, steps: 200\n",
      "Episode 8: reward: 200.000, steps: 200\n",
      "Episode 9: reward: 200.000, steps: 200\n",
      "Episode 10: reward: 200.000, steps: 200\n",
      "Episode 11: reward: 200.000, steps: 200\n",
      "Episode 12: reward: 200.000, steps: 200\n",
      "Episode 13: reward: 200.000, steps: 200\n",
      "Episode 14: reward: 200.000, steps: 200\n",
      "Episode 15: reward: 200.000, steps: 200\n",
      "Episode 16: reward: 200.000, steps: 200\n",
      "Episode 17: reward: 200.000, steps: 200\n",
      "Episode 18: reward: 200.000, steps: 200\n",
      "Episode 19: reward: 200.000, steps: 200\n",
      "Episode 20: reward: 200.000, steps: 200\n",
      "Episode 21: reward: 200.000, steps: 200\n",
      "Episode 22: reward: 200.000, steps: 200\n",
      "Episode 23: reward: 200.000, steps: 200\n",
      "Episode 24: reward: 200.000, steps: 200\n",
      "Episode 25: reward: 200.000, steps: 200\n",
      "Episode 26: reward: 200.000, steps: 200\n",
      "Episode 27: reward: 200.000, steps: 200\n",
      "Episode 28: reward: 200.000, steps: 200\n",
      "Episode 29: reward: 200.000, steps: 200\n",
      "Episode 30: reward: 200.000, steps: 200\n",
      "Episode 31: reward: 200.000, steps: 200\n",
      "Episode 32: reward: 200.000, steps: 200\n",
      "Episode 33: reward: 200.000, steps: 200\n",
      "Episode 34: reward: 200.000, steps: 200\n",
      "Episode 35: reward: 200.000, steps: 200\n",
      "Episode 36: reward: 200.000, steps: 200\n",
      "Episode 37: reward: 200.000, steps: 200\n",
      "Episode 38: reward: 200.000, steps: 200\n",
      "Episode 39: reward: 200.000, steps: 200\n",
      "Episode 40: reward: 200.000, steps: 200\n",
      "Episode 41: reward: 200.000, steps: 200\n",
      "Episode 42: reward: 200.000, steps: 200\n",
      "Episode 43: reward: 200.000, steps: 200\n",
      "Episode 44: reward: 200.000, steps: 200\n",
      "Episode 45: reward: 200.000, steps: 200\n",
      "Episode 46: reward: 200.000, steps: 200\n",
      "Episode 47: reward: 200.000, steps: 200\n",
      "Episode 48: reward: 200.000, steps: 200\n",
      "Episode 49: reward: 200.000, steps: 200\n",
      "Episode 50: reward: 200.000, steps: 200\n",
      "Episode 51: reward: 200.000, steps: 200\n",
      "Episode 52: reward: 200.000, steps: 200\n",
      "Episode 53: reward: 200.000, steps: 200\n",
      "Episode 54: reward: 200.000, steps: 200\n",
      "Episode 55: reward: 200.000, steps: 200\n",
      "Episode 56: reward: 200.000, steps: 200\n",
      "Episode 57: reward: 200.000, steps: 200\n",
      "Episode 58: reward: 200.000, steps: 200\n",
      "Episode 59: reward: 200.000, steps: 200\n",
      "Episode 60: reward: 200.000, steps: 200\n",
      "Episode 61: reward: 200.000, steps: 200\n",
      "Episode 62: reward: 200.000, steps: 200\n",
      "Episode 63: reward: 200.000, steps: 200\n",
      "Episode 64: reward: 200.000, steps: 200\n",
      "Episode 65: reward: 200.000, steps: 200\n",
      "Episode 66: reward: 200.000, steps: 200\n",
      "Episode 67: reward: 200.000, steps: 200\n",
      "Episode 68: reward: 200.000, steps: 200\n",
      "Episode 69: reward: 200.000, steps: 200\n",
      "Episode 70: reward: 200.000, steps: 200\n",
      "Episode 71: reward: 200.000, steps: 200\n",
      "Episode 72: reward: 200.000, steps: 200\n",
      "Episode 73: reward: 200.000, steps: 200\n",
      "Episode 74: reward: 200.000, steps: 200\n",
      "Episode 75: reward: 200.000, steps: 200\n",
      "Episode 76: reward: 200.000, steps: 200\n",
      "Episode 77: reward: 200.000, steps: 200\n",
      "Episode 78: reward: 200.000, steps: 200\n",
      "Episode 79: reward: 200.000, steps: 200\n",
      "Episode 80: reward: 200.000, steps: 200\n",
      "Episode 81: reward: 200.000, steps: 200\n",
      "Episode 82: reward: 200.000, steps: 200\n",
      "Episode 83: reward: 200.000, steps: 200\n",
      "Episode 84: reward: 200.000, steps: 200\n",
      "Episode 85: reward: 200.000, steps: 200\n",
      "Episode 86: reward: 200.000, steps: 200\n",
      "Episode 87: reward: 200.000, steps: 200\n",
      "Episode 88: reward: 200.000, steps: 200\n",
      "Episode 89: reward: 200.000, steps: 200\n",
      "Episode 90: reward: 200.000, steps: 200\n",
      "Episode 91: reward: 200.000, steps: 200\n",
      "Episode 92: reward: 200.000, steps: 200\n",
      "Episode 93: reward: 200.000, steps: 200\n",
      "Episode 94: reward: 200.000, steps: 200\n",
      "Episode 95: reward: 200.000, steps: 200\n",
      "Episode 96: reward: 200.000, steps: 200\n",
      "Episode 97: reward: 200.000, steps: 200\n",
      "Episode 98: reward: 200.000, steps: 200\n",
      "Episode 99: reward: 200.000, steps: 200\n",
      "Episode 100: reward: 200.000, steps: 200\n",
      "200.0\n"
     ]
    }
   ],
   "source": [
    "scores = dqn.test(env, nb_episodes=100, visualize=False)\n",
    "print(np.mean(scores.history['episode_reward']))"
   ]
  },
  {
   "cell_type": "code",
   "execution_count": 13,
   "metadata": {},
   "outputs": [
    {
     "name": "stdout",
     "output_type": "stream",
     "text": [
      "Testing for 15 episodes ...\n",
      "Episode 1: reward: 200.000, steps: 200\n",
      "Episode 2: reward: 200.000, steps: 200\n",
      "Episode 3: reward: 200.000, steps: 200\n",
      "Episode 4: reward: 200.000, steps: 200\n",
      "Episode 5: reward: 200.000, steps: 200\n",
      "Episode 6: reward: 200.000, steps: 200\n",
      "Episode 7: reward: 200.000, steps: 200\n",
      "Episode 8: reward: 200.000, steps: 200\n",
      "Episode 9: reward: 200.000, steps: 200\n",
      "Episode 10: reward: 200.000, steps: 200\n",
      "Episode 11: reward: 200.000, steps: 200\n",
      "Episode 12: reward: 200.000, steps: 200\n",
      "Episode 13: reward: 200.000, steps: 200\n",
      "Episode 14: reward: 200.000, steps: 200\n",
      "Episode 15: reward: 200.000, steps: 200\n"
     ]
    }
   ],
   "source": [
    "_ = dqn.test(env, nb_episodes=15, visualize=True)"
   ]
  },
  {
   "cell_type": "markdown",
   "metadata": {},
   "source": [
    "# 4. Reloading Agent from Memory"
   ]
  },
  {
   "cell_type": "code",
   "execution_count": 14,
   "metadata": {},
   "outputs": [],
   "source": [
    "dqn.save_weights('dqn_weights.h5f', overwrite=True)"
   ]
  },
  {
   "cell_type": "code",
   "execution_count": 15,
   "metadata": {},
   "outputs": [],
   "source": [
    "del model\n",
    "del dqn\n",
    "del env"
   ]
  },
  {
   "cell_type": "code",
   "execution_count": null,
   "metadata": {},
   "outputs": [],
   "source": [
    "env = gym.make('CartPole-v0')\n",
    "actions = env.action_space.n\n",
    "states = env.observation_space.shape[0]\n",
    "model = build_model(states, actions)\n",
    "dqn = build_agent(model, actions)\n",
    "dqn.compile(Adam(lr=1e-3), metrics=['mae'])"
   ]
  },
  {
   "cell_type": "code",
   "execution_count": null,
   "metadata": {},
   "outputs": [],
   "source": [
    "dqn.load_weights('dqn_weights.h5f')"
   ]
  },
  {
   "cell_type": "code",
   "execution_count": null,
   "metadata": {},
   "outputs": [],
   "source": [
    "_ = dqn.test(env, nb_episodes=5, visualize=True)"
   ]
  },
  {
   "cell_type": "code",
   "execution_count": null,
   "metadata": {},
   "outputs": [],
   "source": []
  }
 ],
 "metadata": {
  "kernelspec": {
   "display_name": "Python 3 (ipykernel)",
   "language": "python",
   "name": "python3"
  },
  "language_info": {
   "codemirror_mode": {
    "name": "ipython",
    "version": 3
   },
   "file_extension": ".py",
   "mimetype": "text/x-python",
   "name": "python",
   "nbconvert_exporter": "python",
   "pygments_lexer": "ipython3",
   "version": "3.7.11"
  }
 },
 "nbformat": 4,
 "nbformat_minor": 4
}
